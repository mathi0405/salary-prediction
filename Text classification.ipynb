{
 "cells": [
  {
   "cell_type": "code",
   "execution_count": 2,
   "id": "c431c2bf",
   "metadata": {},
   "outputs": [],
   "source": [
    "from __future__ import absolute_import\n",
    "from __future__ import division\n",
    "from __future__ import print_function"
   ]
  },
  {
   "cell_type": "code",
   "execution_count": 3,
   "id": "a244d5fb",
   "metadata": {},
   "outputs": [
    {
     "name": "stdout",
     "output_type": "stream",
     "text": [
      "2.11.0\n"
     ]
    }
   ],
   "source": [
    "import itertools\n",
    "import os\n",
    "\n",
    "%matplotlib inline\n",
    "import matplotlib.pyplot as plt\n",
    "import numpy as np\n",
    "import pandas as pd\n",
    "import tensorflow as tf\n",
    "\n",
    "from sklearn.preprocessing import LabelBinarizer,LabelEncoder\n",
    "from sklearn.metrics import confusion_matrix\n",
    "\n",
    "from tensorflow import keras\n",
    "from keras.models import Sequential\n",
    "from keras.layers import Dense,Activation,Dropout\n",
    "from keras.preprocessing import text, sequence\n",
    "from keras import utils\n",
    "\n",
    "print(tf.__version__)"
   ]
  },
  {
   "cell_type": "code",
   "execution_count": 4,
   "id": "cf3b4d9c",
   "metadata": {},
   "outputs": [
    {
     "data": {
      "text/html": [
       "<div>\n",
       "<style scoped>\n",
       "    .dataframe tbody tr th:only-of-type {\n",
       "        vertical-align: middle;\n",
       "    }\n",
       "\n",
       "    .dataframe tbody tr th {\n",
       "        vertical-align: top;\n",
       "    }\n",
       "\n",
       "    .dataframe thead th {\n",
       "        text-align: right;\n",
       "    }\n",
       "</style>\n",
       "<table border=\"1\" class=\"dataframe\">\n",
       "  <thead>\n",
       "    <tr style=\"text-align: right;\">\n",
       "      <th></th>\n",
       "      <th>Unnamed: 0</th>\n",
       "      <th>product</th>\n",
       "      <th>narrative</th>\n",
       "    </tr>\n",
       "  </thead>\n",
       "  <tbody>\n",
       "    <tr>\n",
       "      <th>0</th>\n",
       "      <td>0</td>\n",
       "      <td>credit_card</td>\n",
       "      <td>purchase order day shipping amount receive pro...</td>\n",
       "    </tr>\n",
       "    <tr>\n",
       "      <th>1</th>\n",
       "      <td>1</td>\n",
       "      <td>credit_card</td>\n",
       "      <td>forwarded message date tue subject please inve...</td>\n",
       "    </tr>\n",
       "    <tr>\n",
       "      <th>2</th>\n",
       "      <td>2</td>\n",
       "      <td>retail_banking</td>\n",
       "      <td>forwarded message cc sent friday pdt subject f...</td>\n",
       "    </tr>\n",
       "    <tr>\n",
       "      <th>3</th>\n",
       "      <td>3</td>\n",
       "      <td>credit_reporting</td>\n",
       "      <td>payment history missing credit report speciali...</td>\n",
       "    </tr>\n",
       "    <tr>\n",
       "      <th>4</th>\n",
       "      <td>4</td>\n",
       "      <td>credit_reporting</td>\n",
       "      <td>payment history missing credit report made mis...</td>\n",
       "    </tr>\n",
       "  </tbody>\n",
       "</table>\n",
       "</div>"
      ],
      "text/plain": [
       "   Unnamed: 0           product  \\\n",
       "0           0       credit_card   \n",
       "1           1       credit_card   \n",
       "2           2    retail_banking   \n",
       "3           3  credit_reporting   \n",
       "4           4  credit_reporting   \n",
       "\n",
       "                                           narrative  \n",
       "0  purchase order day shipping amount receive pro...  \n",
       "1  forwarded message date tue subject please inve...  \n",
       "2  forwarded message cc sent friday pdt subject f...  \n",
       "3  payment history missing credit report speciali...  \n",
       "4  payment history missing credit report made mis...  "
      ]
     },
     "execution_count": 4,
     "metadata": {},
     "output_type": "execute_result"
    }
   ],
   "source": [
    "df=pd.read_csv('complaints_processed.csv',encoding='latin=1')\n",
    "df.head()"
   ]
  },
  {
   "cell_type": "code",
   "execution_count": 5,
   "id": "ba8f63f8",
   "metadata": {},
   "outputs": [
    {
     "data": {
      "text/html": [
       "<div>\n",
       "<style scoped>\n",
       "    .dataframe tbody tr th:only-of-type {\n",
       "        vertical-align: middle;\n",
       "    }\n",
       "\n",
       "    .dataframe tbody tr th {\n",
       "        vertical-align: top;\n",
       "    }\n",
       "\n",
       "    .dataframe thead th {\n",
       "        text-align: right;\n",
       "    }\n",
       "</style>\n",
       "<table border=\"1\" class=\"dataframe\">\n",
       "  <thead>\n",
       "    <tr style=\"text-align: right;\">\n",
       "      <th></th>\n",
       "      <th>Unnamed: 0</th>\n",
       "      <th>product</th>\n",
       "      <th>narrative</th>\n",
       "    </tr>\n",
       "  </thead>\n",
       "  <tbody>\n",
       "    <tr>\n",
       "      <th>0</th>\n",
       "      <td>0</td>\n",
       "      <td>credit_card</td>\n",
       "      <td>purchase order day shipping amount receive pro...</td>\n",
       "    </tr>\n",
       "    <tr>\n",
       "      <th>1</th>\n",
       "      <td>1</td>\n",
       "      <td>credit_card</td>\n",
       "      <td>forwarded message date tue subject please inve...</td>\n",
       "    </tr>\n",
       "    <tr>\n",
       "      <th>2</th>\n",
       "      <td>2</td>\n",
       "      <td>retail_banking</td>\n",
       "      <td>forwarded message cc sent friday pdt subject f...</td>\n",
       "    </tr>\n",
       "    <tr>\n",
       "      <th>3</th>\n",
       "      <td>3</td>\n",
       "      <td>credit_reporting</td>\n",
       "      <td>payment history missing credit report speciali...</td>\n",
       "    </tr>\n",
       "    <tr>\n",
       "      <th>4</th>\n",
       "      <td>4</td>\n",
       "      <td>credit_reporting</td>\n",
       "      <td>payment history missing credit report made mis...</td>\n",
       "    </tr>\n",
       "    <tr>\n",
       "      <th>...</th>\n",
       "      <td>...</td>\n",
       "      <td>...</td>\n",
       "      <td>...</td>\n",
       "    </tr>\n",
       "    <tr>\n",
       "      <th>162416</th>\n",
       "      <td>162416</td>\n",
       "      <td>debt_collection</td>\n",
       "      <td>name</td>\n",
       "    </tr>\n",
       "    <tr>\n",
       "      <th>162417</th>\n",
       "      <td>162417</td>\n",
       "      <td>credit_card</td>\n",
       "      <td>name</td>\n",
       "    </tr>\n",
       "    <tr>\n",
       "      <th>162418</th>\n",
       "      <td>162418</td>\n",
       "      <td>debt_collection</td>\n",
       "      <td>name</td>\n",
       "    </tr>\n",
       "    <tr>\n",
       "      <th>162419</th>\n",
       "      <td>162419</td>\n",
       "      <td>credit_card</td>\n",
       "      <td>name</td>\n",
       "    </tr>\n",
       "    <tr>\n",
       "      <th>162420</th>\n",
       "      <td>162420</td>\n",
       "      <td>credit_reporting</td>\n",
       "      <td>name</td>\n",
       "    </tr>\n",
       "  </tbody>\n",
       "</table>\n",
       "<p>162421 rows × 3 columns</p>\n",
       "</div>"
      ],
      "text/plain": [
       "        Unnamed: 0           product  \\\n",
       "0                0       credit_card   \n",
       "1                1       credit_card   \n",
       "2                2    retail_banking   \n",
       "3                3  credit_reporting   \n",
       "4                4  credit_reporting   \n",
       "...            ...               ...   \n",
       "162416      162416   debt_collection   \n",
       "162417      162417       credit_card   \n",
       "162418      162418   debt_collection   \n",
       "162419      162419       credit_card   \n",
       "162420      162420  credit_reporting   \n",
       "\n",
       "                                                narrative  \n",
       "0       purchase order day shipping amount receive pro...  \n",
       "1       forwarded message date tue subject please inve...  \n",
       "2       forwarded message cc sent friday pdt subject f...  \n",
       "3       payment history missing credit report speciali...  \n",
       "4       payment history missing credit report made mis...  \n",
       "...                                                   ...  \n",
       "162416                                               name  \n",
       "162417                                               name  \n",
       "162418                                               name  \n",
       "162419                                               name  \n",
       "162420                                               name  \n",
       "\n",
       "[162421 rows x 3 columns]"
      ]
     },
     "execution_count": 5,
     "metadata": {},
     "output_type": "execute_result"
    }
   ],
   "source": [
    "df"
   ]
  },
  {
   "cell_type": "code",
   "execution_count": 6,
   "id": "39def088",
   "metadata": {},
   "outputs": [
    {
     "data": {
      "text/plain": [
       "Unnamed: 0     0\n",
       "product        0\n",
       "narrative     10\n",
       "dtype: int64"
      ]
     },
     "execution_count": 6,
     "metadata": {},
     "output_type": "execute_result"
    }
   ],
   "source": [
    "df.isnull().sum()"
   ]
  },
  {
   "cell_type": "code",
   "execution_count": 7,
   "id": "527cc201",
   "metadata": {},
   "outputs": [
    {
     "data": {
      "text/html": [
       "<div>\n",
       "<style scoped>\n",
       "    .dataframe tbody tr th:only-of-type {\n",
       "        vertical-align: middle;\n",
       "    }\n",
       "\n",
       "    .dataframe tbody tr th {\n",
       "        vertical-align: top;\n",
       "    }\n",
       "\n",
       "    .dataframe thead th {\n",
       "        text-align: right;\n",
       "    }\n",
       "</style>\n",
       "<table border=\"1\" class=\"dataframe\">\n",
       "  <thead>\n",
       "    <tr style=\"text-align: right;\">\n",
       "      <th></th>\n",
       "      <th>narrative</th>\n",
       "      <th>product</th>\n",
       "    </tr>\n",
       "  </thead>\n",
       "  <tbody>\n",
       "    <tr>\n",
       "      <th>0</th>\n",
       "      <td>purchase order day shipping amount receive pro...</td>\n",
       "      <td>credit_card</td>\n",
       "    </tr>\n",
       "    <tr>\n",
       "      <th>1</th>\n",
       "      <td>forwarded message date tue subject please inve...</td>\n",
       "      <td>credit_card</td>\n",
       "    </tr>\n",
       "    <tr>\n",
       "      <th>2</th>\n",
       "      <td>forwarded message cc sent friday pdt subject f...</td>\n",
       "      <td>retail_banking</td>\n",
       "    </tr>\n",
       "    <tr>\n",
       "      <th>3</th>\n",
       "      <td>payment history missing credit report speciali...</td>\n",
       "      <td>credit_reporting</td>\n",
       "    </tr>\n",
       "    <tr>\n",
       "      <th>4</th>\n",
       "      <td>payment history missing credit report made mis...</td>\n",
       "      <td>credit_reporting</td>\n",
       "    </tr>\n",
       "  </tbody>\n",
       "</table>\n",
       "</div>"
      ],
      "text/plain": [
       "                                           narrative           product\n",
       "0  purchase order day shipping amount receive pro...       credit_card\n",
       "1  forwarded message date tue subject please inve...       credit_card\n",
       "2  forwarded message cc sent friday pdt subject f...    retail_banking\n",
       "3  payment history missing credit report speciali...  credit_reporting\n",
       "4  payment history missing credit report made mis...  credit_reporting"
      ]
     },
     "execution_count": 7,
     "metadata": {},
     "output_type": "execute_result"
    }
   ],
   "source": [
    "col=['narrative','product']\n",
    "df=df[col]\n",
    "df=df[pd.notnull(df['narrative'])]\n",
    "df.head()"
   ]
  },
  {
   "cell_type": "code",
   "execution_count": 8,
   "id": "58241860",
   "metadata": {},
   "outputs": [
    {
     "data": {
      "text/plain": [
       "narrative    0\n",
       "product      0\n",
       "dtype: int64"
      ]
     },
     "execution_count": 8,
     "metadata": {},
     "output_type": "execute_result"
    }
   ],
   "source": [
    "df.isnull().sum()"
   ]
  },
  {
   "cell_type": "code",
   "execution_count": 9,
   "id": "0a21a6c4",
   "metadata": {},
   "outputs": [
    {
     "data": {
      "text/plain": [
       "credit_reporting       91172\n",
       "debt_collection        23148\n",
       "mortgages_and_loans    18990\n",
       "credit_card            15566\n",
       "retail_banking         13535\n",
       "Name: product, dtype: int64"
      ]
     },
     "execution_count": 9,
     "metadata": {},
     "output_type": "execute_result"
    }
   ],
   "source": [
    "df['product'].value_counts()"
   ]
  },
  {
   "cell_type": "code",
   "execution_count": 10,
   "id": "926d837e",
   "metadata": {},
   "outputs": [
    {
     "name": "stdout",
     "output_type": "stream",
     "text": [
      "train size:129928\n",
      "test size:32483\n"
     ]
    }
   ],
   "source": [
    "train_size=int(len(df)*.8)\n",
    "print(\"train size:%d\" % train_size)\n",
    "print(\"test size:%d\" % (len(df)-train_size))"
   ]
  },
  {
   "cell_type": "code",
   "execution_count": 11,
   "id": "da2b969b",
   "metadata": {},
   "outputs": [],
   "source": [
    "train_narrative = df['narrative'][:train_size]\n",
    "train_product = df['product'][:train_size]\n",
    "\n",
    "test_narrative = df['narrative'][train_size:]\n",
    "test_product = df['product'][train_size:]"
   ]
  },
  {
   "cell_type": "code",
   "execution_count": 12,
   "id": "c2a40905",
   "metadata": {},
   "outputs": [],
   "source": [
    "max_words=1000\n",
    "tokenize=text.Tokenizer(num_words=max_words,char_level=False)\n",
    "\n",
    "tokenize.fit_on_texts(train_narrative)\n",
    "x_train = tokenize.texts_to_matrix(train_narrative)\n",
    "x_test = tokenize.texts_to_matrix(test_narrative)"
   ]
  },
  {
   "cell_type": "code",
   "execution_count": 13,
   "id": "144d2775",
   "metadata": {},
   "outputs": [],
   "source": [
    "encoder = LabelEncoder()\n",
    "encoder.fit(train_product)\n",
    "y_train = encoder.transform(train_product)\n",
    "y_test = encoder.transform(test_product)"
   ]
  },
  {
   "cell_type": "code",
   "execution_count": 14,
   "id": "f1f53191",
   "metadata": {},
   "outputs": [],
   "source": [
    "num_classes = np.max(y_train)+1\n",
    "y_train = utils.to_categorical(y_train,num_classes)\n",
    "y_test = utils.to_categorical(y_test,num_classes)"
   ]
  },
  {
   "cell_type": "code",
   "execution_count": 15,
   "id": "051270bc",
   "metadata": {},
   "outputs": [
    {
     "name": "stdout",
     "output_type": "stream",
     "text": [
      "x_train shape: (129928, 1000)\n",
      "x_test shape: (32483, 1000)\n",
      "y_train shape: (129928, 5)\n",
      "t_test shape: (32483, 5)\n"
     ]
    }
   ],
   "source": [
    "print('x_train shape:', x_train.shape)\n",
    "print('x_test shape:', x_test.shape)\n",
    "print('y_train shape:', y_train.shape)\n",
    "print('t_test shape:', y_test.shape)"
   ]
  },
  {
   "cell_type": "code",
   "execution_count": 17,
   "id": "eefc0bf0",
   "metadata": {},
   "outputs": [],
   "source": [
    "model=Sequential()\n",
    "model.add(Dense(512,input_shape=(max_words,)))\n",
    "model.add(Activation('relu'))\n",
    "model.add(Dropout(0.5))\n",
    "model.add(Dense(num_classes))\n",
    "model.add(Activation('softmax'))\n",
    "\n",
    "model.compile(loss='categorical_crossentropy',optimizer='adam',metrics=['accuracy'])"
   ]
  },
  {
   "cell_type": "code",
   "execution_count": 19,
   "id": "493945c8",
   "metadata": {},
   "outputs": [
    {
     "name": "stdout",
     "output_type": "stream",
     "text": [
      "3655/3655 [==============================] - 38s 10ms/step - loss: 0.3444 - accuracy: 0.8794 - val_loss: 0.4447 - val_accuracy: 0.8436\n"
     ]
    }
   ],
   "source": [
    "batch_size=32\n",
    "epochs=5\n",
    "\n",
    "history=model.fit(x_train,y_train,batch_size=batch_size,verbose=1,validation_split=0.1)"
   ]
  },
  {
   "cell_type": "code",
   "execution_count": 20,
   "id": "2c7cd422",
   "metadata": {},
   "outputs": [
    {
     "name": "stdout",
     "output_type": "stream",
     "text": [
      "1016/1016 [==============================] - 4s 2ms/step - loss: 0.4096 - accuracy: 0.8487\n",
      "[0.4095647931098938, 0.8486900925636292]\n",
      "Test score: 0.4095647931098938\n",
      "Test accuracy: 0.8486900925636292\n"
     ]
    }
   ],
   "source": [
    "score=model.evaluate(x_test,y_test,batch_size=batch_size,verbose=1)\n",
    "print(score)\n",
    "print('Test score:',score[0])\n",
    "print('Test accuracy:',score[1])"
   ]
  },
  {
   "cell_type": "code",
   "execution_count": 23,
   "id": "bbc90c16",
   "metadata": {},
   "outputs": [
    {
     "name": "stdout",
     "output_type": "stream",
     "text": [
      "1/1 [==============================] - 3s 3s/step\n",
      "following copy email message sent yesterday top ex ...\n",
      "Actual label:credit_card\n",
      "Predicted label:credit_reporting\n",
      "\n",
      "1/1 [==============================] - 2s 2s/step\n",
      "following detailed account distress frustration we ...\n",
      "Actual label:mortgages_and_loans\n",
      "Predicted label:mortgages_and_loans\n",
      "\n",
      "1/1 [==============================] - 1s 815ms/step\n",
      "following list event occurred national credit syst ...\n",
      "Actual label:debt_collection\n",
      "Predicted label:debt_collection\n",
      "\n",
      "1/1 [==============================] - 1s 873ms/step\n",
      "following list credit card sychrony bank follows c ...\n",
      "Actual label:credit_card\n",
      "Predicted label:credit_card\n",
      "\n",
      "1/1 [==============================] - 1s 984ms/step\n",
      "following short summary complaint filed today flor ...\n",
      "Actual label:credit_reporting\n",
      "Predicted label:credit_reporting\n",
      "\n",
      "1/1 [==============================] - 1s 832ms/step\n",
      "following timeline event detailing issue complaint ...\n",
      "Actual label:credit_reporting\n",
      "Predicted label:credit_reporting\n",
      "\n",
      "1/1 [==============================] - 1s 863ms/step\n",
      "following timeline event detailing issue complaint ...\n",
      "Actual label:credit_reporting\n",
      "Predicted label:credit_reporting\n",
      "\n",
      "1/1 [==============================] - 1s 840ms/step\n",
      "following timeline event detailing issue complaint ...\n",
      "Actual label:credit_reporting\n",
      "Predicted label:credit_reporting\n",
      "\n",
      "1/1 [==============================] - 1s 820ms/step\n",
      "following incorrect personal information please re ...\n",
      "Actual label:credit_reporting\n",
      "Predicted label:credit_reporting\n",
      "\n",
      "1/1 [==============================] - 0s 19ms/step\n",
      "following incorrect personal information please re ...\n",
      "Actual label:credit_reporting\n",
      "Predicted label:credit_reporting\n",
      "\n"
     ]
    }
   ],
   "source": [
    "text_labels=encoder.classes_\n",
    "\n",
    "for i in range(10):\n",
    "    prediction=model.predict(np.array([x_test[i]]))\n",
    "    predicted_label=text_labels[np.argmax(prediction)]\n",
    "    print(test_narrative.iloc[i][:50],\"...\")\n",
    "    print('Actual label:' +test_product.iloc[i])\n",
    "    print(\"Predicted label:\" + predicted_label +\"\\n\")"
   ]
  },
  {
   "cell_type": "code",
   "execution_count": null,
   "id": "0ef4421c",
   "metadata": {},
   "outputs": [],
   "source": []
  }
 ],
 "metadata": {
  "kernelspec": {
   "display_name": "Python 3 (ipykernel)",
   "language": "python",
   "name": "python3"
  },
  "language_info": {
   "codemirror_mode": {
    "name": "ipython",
    "version": 3
   },
   "file_extension": ".py",
   "mimetype": "text/x-python",
   "name": "python",
   "nbconvert_exporter": "python",
   "pygments_lexer": "ipython3",
   "version": "3.9.12"
  }
 },
 "nbformat": 4,
 "nbformat_minor": 5
}
